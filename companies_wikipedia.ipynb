{
 "cells": [
  {
   "cell_type": "code",
   "execution_count": 2,
   "id": "ba6fc103-3a04-4b6b-864b-c53000460570",
   "metadata": {},
   "outputs": [],
   "source": [
    "from bs4 import BeautifulSoup\n",
    "import requests\n",
    "import pandas as pd\n",
    "import numpy as np\n",
    "import matplotlib.pyplot as plt"
   ]
  },
  {
   "cell_type": "code",
   "execution_count": 29,
   "id": "c4591543-c71f-40a1-9f2c-02d8db132727",
   "metadata": {},
   "outputs": [],
   "source": [
    "url= 'https://en.wikipedia.org/wiki/List_of_largest_companies_in_the_United_States_by_revenue'\n",
    "page = requests.get(url)\n",
    "soup=BeautifulSoup(page.text, 'html')"
   ]
  },
  {
   "cell_type": "code",
   "execution_count": 4,
   "id": "1b4fc815-8178-4884-add5-0f4b68d6a90b",
   "metadata": {},
   "outputs": [],
   "source": [
    "table =soup.find('table',class_='wikitable sortable')"
   ]
  },
  {
   "cell_type": "code",
   "execution_count": 5,
   "id": "f9d23360-ddb4-4e02-b171-fd35f5d61191",
   "metadata": {},
   "outputs": [],
   "source": [
    "#recuperation de tous les th\n",
    "world_titles=table.find_all('th')"
   ]
  },
  {
   "cell_type": "code",
   "execution_count": 15,
   "id": "2f43fbd7-db64-4fcf-907a-47372783c471",
   "metadata": {},
   "outputs": [],
   "source": [
    "#recuperation des titres sans th\n",
    "worl_table_titles=[title.text.strip() for title in world_titles]"
   ]
  },
  {
   "cell_type": "code",
   "execution_count": 16,
   "id": "12ddbfd6-876f-4619-a6a8-904c0e3d1a48",
   "metadata": {},
   "outputs": [],
   "source": [
    "#creation de la colonne Titre\n",
    "df = pd.DataFrame(columns=worl_table_titles)"
   ]
  },
  {
   "cell_type": "code",
   "execution_count": 17,
   "id": "feb9844c-301f-4a90-9df4-e7e01c810350",
   "metadata": {},
   "outputs": [],
   "source": [
    "column_data=table.find_all('tr')"
   ]
  },
  {
   "cell_type": "code",
   "execution_count": 18,
   "id": "a98eb967-9cd6-4ab3-a89e-787096830055",
   "metadata": {},
   "outputs": [],
   "source": [
    "#recuperation des lignes\n",
    "for row in column_data[1:]:\n",
    "    row_data=row.find_all('td')\n",
    "    individual_row_data= [data.text.strip() for data in row_data]\n",
    "    \n",
    "    #insertion au tableau\n",
    "    lenght=len(df)\n",
    "    df.loc[lenght]=individual_row_data\n",
    "    "
   ]
  },
  {
   "cell_type": "code",
   "execution_count": 19,
   "id": "ee48c897-f7e3-4c63-95ea-e64352bb95b0",
   "metadata": {},
   "outputs": [],
   "source": [
    "#creation du fichier csv\n",
    "df.to_csv(r'C:\\Users\\hp\\Desktop\\projectPython\\my_own_project\\companies.csv', index= False)"
   ]
  },
  {
   "cell_type": "code",
   "execution_count": null,
   "id": "9c8f1100-6209-4076-a66f-295b5e07d601",
   "metadata": {},
   "outputs": [],
   "source": [
    "\n"
   ]
  },
  {
   "cell_type": "code",
   "execution_count": null,
   "id": "254b2a8c-6458-420e-8520-e70eda7029c8",
   "metadata": {},
   "outputs": [],
   "source": []
  }
 ],
 "metadata": {
  "kernelspec": {
   "display_name": "Python 3 (ipykernel)",
   "language": "python",
   "name": "python3"
  },
  "language_info": {
   "codemirror_mode": {
    "name": "ipython",
    "version": 3
   },
   "file_extension": ".py",
   "mimetype": "text/x-python",
   "name": "python",
   "nbconvert_exporter": "python",
   "pygments_lexer": "ipython3",
   "version": "3.11.7"
  }
 },
 "nbformat": 4,
 "nbformat_minor": 5
}
